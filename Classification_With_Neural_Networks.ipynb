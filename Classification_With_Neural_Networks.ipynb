{
  "nbformat": 4,
  "nbformat_minor": 0,
  "metadata": {
    "colab": {
      "provenance": [],
      "gpuType": "T4"
    },
    "kernelspec": {
      "name": "python3",
      "display_name": "Python 3"
    },
    "language_info": {
      "name": "python"
    },
    "accelerator": "GPU"
  },
  "cells": [
    {
      "cell_type": "code",
      "execution_count": null,
      "metadata": {
        "id": "SUi11rJWR1GK"
      },
      "outputs": [],
      "source": [
        "import numpy as np\n",
        "import tensorflow_datasets as tfds\n",
        "import pandas as pd\n",
        "import seaborn as sns\n",
        "import matplotlib.pyplot as plt\n",
        "import tensorflow as tf\n",
        "import os\n",
        "from tensorflow import keras\n",
        "from tensorflow.keras import layers"
      ]
    },
    {
      "cell_type": "code",
      "source": [
        "datatrain,info=tfds.load(\"fashion_mnist\",split=\"train\",with_info=True,as_supervised=True,shuffle_files=True)\n",
        "print(info.splits[\"train\"].num_examples)   #train dataset is 60000\n",
        "print(info.features[\"label\"].num_classes)"
      ],
      "metadata": {
        "colab": {
          "base_uri": "https://localhost:8080/"
        },
        "id": "sIqrHjA1UQaA",
        "outputId": "30706756-7c5e-4559-a95b-ce4473123e2a"
      },
      "execution_count": null,
      "outputs": [
        {
          "output_type": "stream",
          "name": "stdout",
          "text": [
            "60000\n",
            "10\n"
          ]
        }
      ]
    },
    {
      "cell_type": "code",
      "source": [
        "datatrain"
      ],
      "metadata": {
        "colab": {
          "base_uri": "https://localhost:8080/"
        },
        "id": "XeTZ5fNAjwgQ",
        "outputId": "bb566ca2-39dd-4ccb-be0f-9a9b9512637b"
      },
      "execution_count": null,
      "outputs": [
        {
          "output_type": "execute_result",
          "data": {
            "text/plain": [
              "<_PrefetchDataset element_spec=(TensorSpec(shape=(28, 28, 1), dtype=tf.uint8, name=None), TensorSpec(shape=(), dtype=tf.int64, name=None))>"
            ]
          },
          "metadata": {},
          "execution_count": 67
        }
      ]
    },
    {
      "cell_type": "code",
      "source": [
        "datatest,info=tfds.load(\"fashion_mnist\",split=\"test\",with_info=True,as_supervised=True,shuffle_files=True)\n",
        "print(info.splits[\"test\"].num_examples)\n",
        "print(info.features[\"label\"].num_classes)"
      ],
      "metadata": {
        "colab": {
          "base_uri": "https://localhost:8080/"
        },
        "id": "qEEBCzGwZEIW",
        "outputId": "d1bbd49c-e215-4390-ca7f-ae5c7d87bdfc"
      },
      "execution_count": null,
      "outputs": [
        {
          "output_type": "stream",
          "name": "stdout",
          "text": [
            "10000\n",
            "10\n"
          ]
        }
      ]
    },
    {
      "cell_type": "code",
      "source": [
        "print(info.features[\"label\"].num_classes)"
      ],
      "metadata": {
        "colab": {
          "base_uri": "https://localhost:8080/"
        },
        "id": "wn6LrgHqqozh",
        "outputId": "00bfbb6e-1b7c-4270-f15f-c168abce733a"
      },
      "execution_count": null,
      "outputs": [
        {
          "output_type": "stream",
          "name": "stdout",
          "text": [
            "10\n"
          ]
        }
      ]
    },
    {
      "cell_type": "code",
      "source": [],
      "metadata": {
        "id": "PBS5drjJ6M18"
      },
      "execution_count": null,
      "outputs": []
    },
    {
      "cell_type": "code",
      "source": [
        "#normalize images\n",
        "def normalize_img(image,label):\n",
        "   return tf.cast(image,tf.float32)/255.0,label"
      ],
      "metadata": {
        "id": "M3zY3fbdZEzY"
      },
      "execution_count": null,
      "outputs": []
    },
    {
      "cell_type": "code",
      "source": [
        "AUTOTUNE=tf.data.experimental.AUTOTUNE\n",
        "batch_size=64\n",
        "datatrain=datatrain.map(normalize_img,num_parallel_calls=AUTOTUNE) #this will allow tensorflow to freely tune the parameters\n",
        "datatrain=datatrain.cache() #this will store cache for better performance\n",
        "datatrain=datatrain.shuffle(info.splits[\"train\"].num_examples) #shuffle all through data train\n",
        "datatrain=datatrain.batch(batch_size)\n",
        "datatrain=datatrain.prefetch(AUTOTUNE)\n"
      ],
      "metadata": {
        "id": "xbo4w-z-ZE3k"
      },
      "execution_count": null,
      "outputs": []
    },
    {
      "cell_type": "code",
      "source": [
        "\n",
        "\n",
        "model_cnn=keras.Sequential([\n",
        "    layers.Reshape((28, 28, 1), input_shape=(28, 28)),  # Reshape input for grayscale images\n",
        "    layers.Conv2D(32, (3, 3), activation='relu', input_shape=(28, 28, 1)),\n",
        "    layers.MaxPooling2D((2, 2)),\n",
        "    layers.Conv2D(64, (3, 3), activation='relu'),\n",
        "    layers.MaxPooling2D((2, 2)),\n",
        "    layers.Flatten(),\n",
        "    layers.Dense(128, activation='relu'),\n",
        "    layers.Dropout(0.5),\n",
        "    layers.Dense(10, activation='softmax')\n",
        "                ])\n",
        "model_cnn.compile(\n",
        "     optimizer=keras.optimizers.Adam(learning_rate=0.001),\n",
        "     loss=keras.losses.sparse_categorical_crossentropy,\n",
        "     metrics=['accuracy'],\n",
        "     )\n",
        "model_cnn.fit(datatrain,epochs=100)\n",
        "model_cnn.evaluate(datatest)"
      ],
      "metadata": {
        "colab": {
          "base_uri": "https://localhost:8080/",
          "height": 1000
        },
        "id": "M9DAdkGiZFAD",
        "outputId": "943e5a6b-134b-4b8f-e09a-45a89cbcd222"
      },
      "execution_count": null,
      "outputs": [
        {
          "output_type": "stream",
          "name": "stdout",
          "text": [
            "Epoch 1/100\n",
            "938/938 [==============================] - 5s 4ms/step - loss: 0.6121 - accuracy: 0.7774\n",
            "Epoch 2/100\n",
            "938/938 [==============================] - 4s 4ms/step - loss: 0.4104 - accuracy: 0.8531\n",
            "Epoch 3/100\n",
            "938/938 [==============================] - 4s 5ms/step - loss: 0.3572 - accuracy: 0.8713\n",
            "Epoch 4/100\n",
            "938/938 [==============================] - 4s 4ms/step - loss: 0.3250 - accuracy: 0.8825\n",
            "Epoch 5/100\n",
            "938/938 [==============================] - 4s 4ms/step - loss: 0.3031 - accuracy: 0.8899\n",
            "Epoch 6/100\n",
            "938/938 [==============================] - 4s 4ms/step - loss: 0.2828 - accuracy: 0.8985\n",
            "Epoch 7/100\n",
            "938/938 [==============================] - 4s 4ms/step - loss: 0.2614 - accuracy: 0.9041\n",
            "Epoch 8/100\n",
            "938/938 [==============================] - 4s 4ms/step - loss: 0.2500 - accuracy: 0.9089\n",
            "Epoch 9/100\n",
            "938/938 [==============================] - 4s 4ms/step - loss: 0.2347 - accuracy: 0.9130\n",
            "Epoch 10/100\n",
            "938/938 [==============================] - 4s 4ms/step - loss: 0.2240 - accuracy: 0.9175\n",
            "Epoch 11/100\n",
            "938/938 [==============================] - 4s 4ms/step - loss: 0.2124 - accuracy: 0.9213\n",
            "Epoch 12/100\n",
            "938/938 [==============================] - 4s 4ms/step - loss: 0.2027 - accuracy: 0.9250\n",
            "Epoch 13/100\n",
            "938/938 [==============================] - 4s 4ms/step - loss: 0.1946 - accuracy: 0.9272\n",
            "Epoch 14/100\n",
            "938/938 [==============================] - 4s 5ms/step - loss: 0.1837 - accuracy: 0.9301\n",
            "Epoch 15/100\n",
            "938/938 [==============================] - 4s 4ms/step - loss: 0.1789 - accuracy: 0.9319\n",
            "Epoch 16/100\n",
            "938/938 [==============================] - 4s 4ms/step - loss: 0.1732 - accuracy: 0.9347\n",
            "Epoch 17/100\n",
            "938/938 [==============================] - 4s 4ms/step - loss: 0.1640 - accuracy: 0.9374\n",
            "Epoch 18/100\n",
            "938/938 [==============================] - 4s 4ms/step - loss: 0.1600 - accuracy: 0.9387\n",
            "Epoch 19/100\n",
            "938/938 [==============================] - 4s 4ms/step - loss: 0.1542 - accuracy: 0.9415\n",
            "Epoch 20/100\n",
            "938/938 [==============================] - 4s 4ms/step - loss: 0.1461 - accuracy: 0.9427\n",
            "Epoch 21/100\n",
            "938/938 [==============================] - 4s 4ms/step - loss: 0.1446 - accuracy: 0.9431\n",
            "Epoch 22/100\n",
            "938/938 [==============================] - 4s 4ms/step - loss: 0.1389 - accuracy: 0.9456\n",
            "Epoch 23/100\n",
            "938/938 [==============================] - 4s 4ms/step - loss: 0.1355 - accuracy: 0.9472\n",
            "Epoch 24/100\n",
            "938/938 [==============================] - 4s 5ms/step - loss: 0.1300 - accuracy: 0.9487\n",
            "Epoch 25/100\n",
            "938/938 [==============================] - 4s 4ms/step - loss: 0.1294 - accuracy: 0.9502\n",
            "Epoch 26/100\n",
            "938/938 [==============================] - 4s 4ms/step - loss: 0.1209 - accuracy: 0.9524\n",
            "Epoch 27/100\n",
            "938/938 [==============================] - 4s 4ms/step - loss: 0.1221 - accuracy: 0.9528\n",
            "Epoch 28/100\n",
            "938/938 [==============================] - 4s 4ms/step - loss: 0.1181 - accuracy: 0.9539\n",
            "Epoch 29/100\n",
            "938/938 [==============================] - 4s 4ms/step - loss: 0.1166 - accuracy: 0.9534\n",
            "Epoch 30/100\n",
            "938/938 [==============================] - 4s 4ms/step - loss: 0.1106 - accuracy: 0.9571\n",
            "Epoch 31/100\n",
            "938/938 [==============================] - 4s 4ms/step - loss: 0.1114 - accuracy: 0.9562\n",
            "Epoch 32/100\n",
            "938/938 [==============================] - 4s 4ms/step - loss: 0.1080 - accuracy: 0.9560\n",
            "Epoch 33/100\n",
            "938/938 [==============================] - 4s 4ms/step - loss: 0.1076 - accuracy: 0.9573\n",
            "Epoch 34/100\n",
            "938/938 [==============================] - 4s 4ms/step - loss: 0.1041 - accuracy: 0.9578\n",
            "Epoch 35/100\n",
            "938/938 [==============================] - 4s 5ms/step - loss: 0.0988 - accuracy: 0.9616\n",
            "Epoch 36/100\n",
            "938/938 [==============================] - 4s 4ms/step - loss: 0.0999 - accuracy: 0.9603\n",
            "Epoch 37/100\n",
            "938/938 [==============================] - 4s 4ms/step - loss: 0.0939 - accuracy: 0.9618\n",
            "Epoch 38/100\n",
            "938/938 [==============================] - 4s 5ms/step - loss: 0.0964 - accuracy: 0.9612\n",
            "Epoch 39/100\n",
            "938/938 [==============================] - 4s 4ms/step - loss: 0.0909 - accuracy: 0.9641\n",
            "Epoch 40/100\n",
            "938/938 [==============================] - 4s 4ms/step - loss: 0.0965 - accuracy: 0.9619\n",
            "Epoch 41/100\n",
            "938/938 [==============================] - 4s 4ms/step - loss: 0.0882 - accuracy: 0.9654\n",
            "Epoch 42/100\n",
            "938/938 [==============================] - 4s 4ms/step - loss: 0.0866 - accuracy: 0.9647\n",
            "Epoch 43/100\n",
            "938/938 [==============================] - 4s 5ms/step - loss: 0.0878 - accuracy: 0.9644\n",
            "Epoch 44/100\n",
            "938/938 [==============================] - 4s 4ms/step - loss: 0.0880 - accuracy: 0.9649\n",
            "Epoch 45/100\n",
            "938/938 [==============================] - 4s 4ms/step - loss: 0.0805 - accuracy: 0.9666\n",
            "Epoch 46/100\n",
            "938/938 [==============================] - 4s 4ms/step - loss: 0.0889 - accuracy: 0.9638\n",
            "Epoch 47/100\n",
            "938/938 [==============================] - 4s 4ms/step - loss: 0.0842 - accuracy: 0.9664\n",
            "Epoch 48/100\n",
            "938/938 [==============================] - 4s 4ms/step - loss: 0.0802 - accuracy: 0.9686\n",
            "Epoch 49/100\n",
            "938/938 [==============================] - 4s 4ms/step - loss: 0.0798 - accuracy: 0.9679\n",
            "Epoch 50/100\n",
            "938/938 [==============================] - 4s 4ms/step - loss: 0.0770 - accuracy: 0.9689\n",
            "Epoch 51/100\n",
            "938/938 [==============================] - 4s 4ms/step - loss: 0.0750 - accuracy: 0.9701\n",
            "Epoch 52/100\n",
            "938/938 [==============================] - 4s 4ms/step - loss: 0.0776 - accuracy: 0.9684\n",
            "Epoch 53/100\n",
            "938/938 [==============================] - 4s 4ms/step - loss: 0.0768 - accuracy: 0.9688\n",
            "Epoch 54/100\n",
            "938/938 [==============================] - 4s 4ms/step - loss: 0.0768 - accuracy: 0.9689\n",
            "Epoch 55/100\n",
            "938/938 [==============================] - 4s 4ms/step - loss: 0.0753 - accuracy: 0.9699\n",
            "Epoch 56/100\n",
            "938/938 [==============================] - 4s 4ms/step - loss: 0.0718 - accuracy: 0.9710\n",
            "Epoch 57/100\n",
            "938/938 [==============================] - 4s 4ms/step - loss: 0.0759 - accuracy: 0.9690\n",
            "Epoch 58/100\n",
            "938/938 [==============================] - 4s 4ms/step - loss: 0.0710 - accuracy: 0.9720\n",
            "Epoch 59/100\n",
            "938/938 [==============================] - 4s 4ms/step - loss: 0.0678 - accuracy: 0.9727\n",
            "Epoch 60/100\n",
            "938/938 [==============================] - 4s 4ms/step - loss: 0.0697 - accuracy: 0.9722\n",
            "Epoch 61/100\n",
            "938/938 [==============================] - 4s 4ms/step - loss: 0.0714 - accuracy: 0.9723\n",
            "Epoch 62/100\n",
            "938/938 [==============================] - 4s 4ms/step - loss: 0.0708 - accuracy: 0.9708\n",
            "Epoch 63/100\n",
            "938/938 [==============================] - 4s 4ms/step - loss: 0.0722 - accuracy: 0.9712\n",
            "Epoch 64/100\n",
            "938/938 [==============================] - 4s 4ms/step - loss: 0.0644 - accuracy: 0.9736\n",
            "Epoch 65/100\n",
            "938/938 [==============================] - 4s 4ms/step - loss: 0.0664 - accuracy: 0.9725\n",
            "Epoch 66/100\n",
            "938/938 [==============================] - 4s 4ms/step - loss: 0.0672 - accuracy: 0.9733\n",
            "Epoch 67/100\n",
            "938/938 [==============================] - 4s 4ms/step - loss: 0.0650 - accuracy: 0.9741\n",
            "Epoch 68/100\n",
            "938/938 [==============================] - 4s 4ms/step - loss: 0.0638 - accuracy: 0.9744\n",
            "Epoch 69/100\n",
            "938/938 [==============================] - 4s 4ms/step - loss: 0.0626 - accuracy: 0.9749\n",
            "Epoch 70/100\n",
            "938/938 [==============================] - 4s 4ms/step - loss: 0.0656 - accuracy: 0.9738\n",
            "Epoch 71/100\n",
            "938/938 [==============================] - 4s 5ms/step - loss: 0.0655 - accuracy: 0.9738\n",
            "Epoch 72/100\n",
            "938/938 [==============================] - 4s 4ms/step - loss: 0.0638 - accuracy: 0.9742\n",
            "Epoch 73/100\n",
            "938/938 [==============================] - 4s 4ms/step - loss: 0.0628 - accuracy: 0.9747\n",
            "Epoch 74/100\n",
            "938/938 [==============================] - 5s 5ms/step - loss: 0.0632 - accuracy: 0.9748\n",
            "Epoch 75/100\n",
            "938/938 [==============================] - 4s 4ms/step - loss: 0.0627 - accuracy: 0.9741\n",
            "Epoch 76/100\n",
            "938/938 [==============================] - 4s 4ms/step - loss: 0.0631 - accuracy: 0.9741\n",
            "Epoch 77/100\n",
            "938/938 [==============================] - 4s 4ms/step - loss: 0.0627 - accuracy: 0.9750\n",
            "Epoch 78/100\n",
            "938/938 [==============================] - 4s 4ms/step - loss: 0.0619 - accuracy: 0.9750\n",
            "Epoch 79/100\n",
            "938/938 [==============================] - 4s 4ms/step - loss: 0.0630 - accuracy: 0.9750\n",
            "Epoch 80/100\n",
            "938/938 [==============================] - 4s 5ms/step - loss: 0.0606 - accuracy: 0.9762\n",
            "Epoch 81/100\n",
            "938/938 [==============================] - 4s 4ms/step - loss: 0.0605 - accuracy: 0.9760\n",
            "Epoch 82/100\n",
            "938/938 [==============================] - 4s 5ms/step - loss: 0.0575 - accuracy: 0.9771\n",
            "Epoch 83/100\n",
            "938/938 [==============================] - 4s 4ms/step - loss: 0.0597 - accuracy: 0.9768\n",
            "Epoch 84/100\n",
            "938/938 [==============================] - 4s 4ms/step - loss: 0.0585 - accuracy: 0.9766\n",
            "Epoch 85/100\n",
            "938/938 [==============================] - 4s 5ms/step - loss: 0.0571 - accuracy: 0.9777\n",
            "Epoch 86/100\n",
            "938/938 [==============================] - 4s 4ms/step - loss: 0.0570 - accuracy: 0.9772\n",
            "Epoch 87/100\n",
            "938/938 [==============================] - 4s 4ms/step - loss: 0.0573 - accuracy: 0.9763\n",
            "Epoch 88/100\n",
            "938/938 [==============================] - 4s 4ms/step - loss: 0.0583 - accuracy: 0.9764\n",
            "Epoch 89/100\n",
            "938/938 [==============================] - 4s 4ms/step - loss: 0.0565 - accuracy: 0.9780\n",
            "Epoch 90/100\n",
            "938/938 [==============================] - 4s 4ms/step - loss: 0.0522 - accuracy: 0.9794\n",
            "Epoch 91/100\n",
            "938/938 [==============================] - 4s 4ms/step - loss: 0.0595 - accuracy: 0.9768\n",
            "Epoch 92/100\n",
            "938/938 [==============================] - 4s 4ms/step - loss: 0.0563 - accuracy: 0.9781\n",
            "Epoch 93/100\n",
            "938/938 [==============================] - 4s 5ms/step - loss: 0.0532 - accuracy: 0.9787\n",
            "Epoch 94/100\n",
            "938/938 [==============================] - 4s 4ms/step - loss: 0.0535 - accuracy: 0.9796\n",
            "Epoch 95/100\n",
            "938/938 [==============================] - 4s 4ms/step - loss: 0.0586 - accuracy: 0.9768\n",
            "Epoch 96/100\n",
            "938/938 [==============================] - 4s 5ms/step - loss: 0.0569 - accuracy: 0.9777\n",
            "Epoch 97/100\n",
            "938/938 [==============================] - 4s 4ms/step - loss: 0.0550 - accuracy: 0.9784\n",
            "Epoch 98/100\n",
            "938/938 [==============================] - 4s 4ms/step - loss: 0.0556 - accuracy: 0.9778\n",
            "Epoch 99/100\n",
            "938/938 [==============================] - 4s 5ms/step - loss: 0.0508 - accuracy: 0.9798\n",
            "Epoch 100/100\n",
            "938/938 [==============================] - 4s 4ms/step - loss: 0.0520 - accuracy: 0.9801\n"
          ]
        },
        {
          "output_type": "error",
          "ename": "ValueError",
          "evalue": "ignored",
          "traceback": [
            "\u001b[0;31m---------------------------------------------------------------------------\u001b[0m",
            "\u001b[0;31mValueError\u001b[0m                                Traceback (most recent call last)",
            "\u001b[0;32m<ipython-input-128-f41625ca9bdf>\u001b[0m in \u001b[0;36m<cell line: 18>\u001b[0;34m()\u001b[0m\n\u001b[1;32m     16\u001b[0m      )\n\u001b[1;32m     17\u001b[0m \u001b[0mmodel_cnn\u001b[0m\u001b[0;34m.\u001b[0m\u001b[0mfit\u001b[0m\u001b[0;34m(\u001b[0m\u001b[0mdatatrain\u001b[0m\u001b[0;34m,\u001b[0m\u001b[0mepochs\u001b[0m\u001b[0;34m=\u001b[0m\u001b[0;36m100\u001b[0m\u001b[0;34m)\u001b[0m\u001b[0;34m\u001b[0m\u001b[0;34m\u001b[0m\u001b[0m\n\u001b[0;32m---> 18\u001b[0;31m \u001b[0mmodel_cnn\u001b[0m\u001b[0;34m.\u001b[0m\u001b[0mevaluate\u001b[0m\u001b[0;34m(\u001b[0m\u001b[0mdatatest\u001b[0m\u001b[0;34m)\u001b[0m\u001b[0;34m\u001b[0m\u001b[0;34m\u001b[0m\u001b[0m\n\u001b[0m",
            "\u001b[0;32m/usr/local/lib/python3.10/dist-packages/keras/src/utils/traceback_utils.py\u001b[0m in \u001b[0;36merror_handler\u001b[0;34m(*args, **kwargs)\u001b[0m\n\u001b[1;32m     68\u001b[0m             \u001b[0;31m# To get the full stack trace, call:\u001b[0m\u001b[0;34m\u001b[0m\u001b[0;34m\u001b[0m\u001b[0m\n\u001b[1;32m     69\u001b[0m             \u001b[0;31m# `tf.debugging.disable_traceback_filtering()`\u001b[0m\u001b[0;34m\u001b[0m\u001b[0;34m\u001b[0m\u001b[0m\n\u001b[0;32m---> 70\u001b[0;31m             \u001b[0;32mraise\u001b[0m \u001b[0me\u001b[0m\u001b[0;34m.\u001b[0m\u001b[0mwith_traceback\u001b[0m\u001b[0;34m(\u001b[0m\u001b[0mfiltered_tb\u001b[0m\u001b[0;34m)\u001b[0m \u001b[0;32mfrom\u001b[0m \u001b[0;32mNone\u001b[0m\u001b[0;34m\u001b[0m\u001b[0;34m\u001b[0m\u001b[0m\n\u001b[0m\u001b[1;32m     71\u001b[0m         \u001b[0;32mfinally\u001b[0m\u001b[0;34m:\u001b[0m\u001b[0;34m\u001b[0m\u001b[0;34m\u001b[0m\u001b[0m\n\u001b[1;32m     72\u001b[0m             \u001b[0;32mdel\u001b[0m \u001b[0mfiltered_tb\u001b[0m\u001b[0;34m\u001b[0m\u001b[0;34m\u001b[0m\u001b[0m\n",
            "\u001b[0;32m/usr/local/lib/python3.10/dist-packages/keras/src/engine/training.py\u001b[0m in \u001b[0;36mtf__test_function\u001b[0;34m(iterator)\u001b[0m\n\u001b[1;32m     13\u001b[0m                 \u001b[0;32mtry\u001b[0m\u001b[0;34m:\u001b[0m\u001b[0;34m\u001b[0m\u001b[0;34m\u001b[0m\u001b[0m\n\u001b[1;32m     14\u001b[0m                     \u001b[0mdo_return\u001b[0m \u001b[0;34m=\u001b[0m \u001b[0;32mTrue\u001b[0m\u001b[0;34m\u001b[0m\u001b[0;34m\u001b[0m\u001b[0m\n\u001b[0;32m---> 15\u001b[0;31m                     \u001b[0mretval_\u001b[0m \u001b[0;34m=\u001b[0m \u001b[0mag__\u001b[0m\u001b[0;34m.\u001b[0m\u001b[0mconverted_call\u001b[0m\u001b[0;34m(\u001b[0m\u001b[0mag__\u001b[0m\u001b[0;34m.\u001b[0m\u001b[0mld\u001b[0m\u001b[0;34m(\u001b[0m\u001b[0mstep_function\u001b[0m\u001b[0;34m)\u001b[0m\u001b[0;34m,\u001b[0m \u001b[0;34m(\u001b[0m\u001b[0mag__\u001b[0m\u001b[0;34m.\u001b[0m\u001b[0mld\u001b[0m\u001b[0;34m(\u001b[0m\u001b[0mself\u001b[0m\u001b[0;34m)\u001b[0m\u001b[0;34m,\u001b[0m \u001b[0mag__\u001b[0m\u001b[0;34m.\u001b[0m\u001b[0mld\u001b[0m\u001b[0;34m(\u001b[0m\u001b[0miterator\u001b[0m\u001b[0;34m)\u001b[0m\u001b[0;34m)\u001b[0m\u001b[0;34m,\u001b[0m \u001b[0;32mNone\u001b[0m\u001b[0;34m,\u001b[0m \u001b[0mfscope\u001b[0m\u001b[0;34m)\u001b[0m\u001b[0;34m\u001b[0m\u001b[0;34m\u001b[0m\u001b[0m\n\u001b[0m\u001b[1;32m     16\u001b[0m                 \u001b[0;32mexcept\u001b[0m\u001b[0;34m:\u001b[0m\u001b[0;34m\u001b[0m\u001b[0;34m\u001b[0m\u001b[0m\n\u001b[1;32m     17\u001b[0m                     \u001b[0mdo_return\u001b[0m \u001b[0;34m=\u001b[0m \u001b[0;32mFalse\u001b[0m\u001b[0;34m\u001b[0m\u001b[0;34m\u001b[0m\u001b[0m\n",
            "\u001b[0;31mValueError\u001b[0m: in user code:\n\n    File \"/usr/local/lib/python3.10/dist-packages/keras/src/engine/training.py\", line 1972, in test_function  *\n        return step_function(self, iterator)\n    File \"/usr/local/lib/python3.10/dist-packages/keras/src/engine/training.py\", line 1956, in step_function  **\n        outputs = model.distribute_strategy.run(run_step, args=(data,))\n    File \"/usr/local/lib/python3.10/dist-packages/keras/src/engine/training.py\", line 1944, in run_step  **\n        outputs = model.test_step(data)\n    File \"/usr/local/lib/python3.10/dist-packages/keras/src/engine/training.py\", line 1850, in test_step\n        y_pred = self(x, training=False)\n    File \"/usr/local/lib/python3.10/dist-packages/keras/src/utils/traceback_utils.py\", line 70, in error_handler\n        raise e.with_traceback(filtered_tb) from None\n\n    ValueError: Exception encountered when calling layer 'reshape_1' (type Reshape).\n    \n    Cannot reshape a tensor with 784 elements to shape [28,28,28,1] (21952 elements) for '{{node sequential_16/reshape_1/Reshape}} = Reshape[T=DT_FLOAT, Tshape=DT_INT32](sequential_16/Cast, sequential_16/reshape_1/Reshape/shape)' with input shapes: [28,28,1], [4] and with input tensors computed as partial shapes: input[1] = [28,28,28,1].\n    \n    Call arguments received by layer 'reshape_1' (type Reshape):\n      • inputs=tf.Tensor(shape=(28, 28, 1), dtype=float32)\n"
          ]
        }
      ]
    },
    {
      "cell_type": "markdown",
      "source": [],
      "metadata": {
        "id": "IftXWSYoMd6m"
      }
    },
    {
      "cell_type": "code",
      "source": [
        "#saving the model\n",
        "model_cnn.save(\"Mnist_model.h5\")"
      ],
      "metadata": {
        "id": "aaf6mH4On086"
      },
      "execution_count": null,
      "outputs": []
    },
    {
      "cell_type": "markdown",
      "source": [
        "# New Section"
      ],
      "metadata": {
        "id": "fhO93a5aoFpG"
      }
    },
    {
      "cell_type": "code",
      "source": [
        "import numpy as np\n",
        "from keras.preprocessing import image\n",
        "from skimage import color\n",
        "\n",
        "test_image = image.load_img('/content/513xkSE4hoL._SX679_.jpg',grayscale=True, target_size = (28, 28))\n",
        "\n",
        "test_image = image.img_to_array(test_image)\n",
        "#imgGray = color.rgb2gray(test_image)\n",
        "print(test_image.shape)\n",
        "#test_image_gray = np.mean(test_image, axis=2)\n",
        "test_image = np.expand_dims(test_image, axis = 0)\n",
        "print(test_image.shape)\n",
        "test_image=test_image/255.0\n",
        "\n",
        "result = model_cnn.predict(test_image)\n",
        "print(result)"
      ],
      "metadata": {
        "colab": {
          "base_uri": "https://localhost:8080/"
        },
        "id": "LDfaJL10ZFTA",
        "outputId": "72093207-fa98-45f5-e20c-0f0569183aca"
      },
      "execution_count": null,
      "outputs": [
        {
          "output_type": "stream",
          "name": "stdout",
          "text": [
            "(28, 28, 1)\n",
            "(1, 28, 28, 1)\n",
            "1/1 [==============================] - 0s 29ms/step\n",
            "[[2.7383455e-06 3.9570607e-27 7.6435549e-07 2.0250611e-10 5.6884514e-15\n",
            "  3.4574377e-24 9.9999654e-01 0.0000000e+00 3.1776093e-21 3.4625312e-32]]\n"
          ]
        }
      ]
    },
    {
      "cell_type": "code",
      "source": [
        "from numpy.ma.core import argmax\n",
        "label=[\"shirt\",\"trousers\",\"pullover\",\"dresss\",\"coat\",\"scandal\",\"skirt\",\"sneaker\",\"bag\",\"ankle\"]\n",
        "resultmax=argmax(result)\n",
        "label[resultmax]"
      ],
      "metadata": {
        "id": "yoqUzswTZFXg",
        "colab": {
          "base_uri": "https://localhost:8080/",
          "height": 35
        },
        "outputId": "2094f57e-0253-4124-9580-7cca27e5b14e"
      },
      "execution_count": null,
      "outputs": [
        {
          "output_type": "execute_result",
          "data": {
            "text/plain": [
              "'skirt'"
            ],
            "application/vnd.google.colaboratory.intrinsic+json": {
              "type": "string"
            }
          },
          "metadata": {},
          "execution_count": 127
        }
      ]
    },
    {
      "cell_type": "code",
      "source": [
        "|\n"
      ],
      "metadata": {
        "id": "kFVdrBOCZFhI"
      },
      "execution_count": null,
      "outputs": []
    },
    {
      "cell_type": "code",
      "source": [],
      "metadata": {
        "id": "c8MZ10qhZFsJ"
      },
      "execution_count": null,
      "outputs": []
    },
    {
      "cell_type": "code",
      "source": [],
      "metadata": {
        "id": "xS-Fq3c-ZF0S"
      },
      "execution_count": null,
      "outputs": []
    },
    {
      "cell_type": "code",
      "source": [],
      "metadata": {
        "id": "SrIXjB_-ZF8w"
      },
      "execution_count": null,
      "outputs": []
    },
    {
      "cell_type": "code",
      "source": [],
      "metadata": {
        "id": "vwKZzmicZGCK"
      },
      "execution_count": null,
      "outputs": []
    },
    {
      "cell_type": "code",
      "source": [],
      "metadata": {
        "id": "H4bulwu2ZGGK"
      },
      "execution_count": null,
      "outputs": []
    },
    {
      "cell_type": "code",
      "source": [],
      "metadata": {
        "id": "8TkIfM9xZGKD"
      },
      "execution_count": null,
      "outputs": []
    },
    {
      "cell_type": "code",
      "source": [],
      "metadata": {
        "id": "OgmB16MgZGO_"
      },
      "execution_count": null,
      "outputs": []
    }
  ]
}